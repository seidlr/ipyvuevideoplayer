{
 "cells": [
  {
   "cell_type": "code",
   "execution_count": 1,
   "id": "45564aa0",
   "metadata": {},
   "outputs": [],
   "source": [
    "from ipyvuevideo import VueVideoPlayer"
   ]
  },
  {
   "cell_type": "code",
   "execution_count": 2,
   "id": "ba284687",
   "metadata": {},
   "outputs": [
    {
     "data": {
      "application/vnd.jupyter.widget-view+json": {
       "model_id": "d82bd4275cce489f9fa7719982227e37",
       "version_major": 2,
       "version_minor": 0
      },
      "text/plain": [
       "VueVideoPlayer()"
      ]
     },
     "metadata": {},
     "output_type": "display_data"
    }
   ],
   "source": [
    "VueVideoPlayer()"
   ]
  },
  {
   "cell_type": "code",
   "execution_count": null,
   "id": "139863d0",
   "metadata": {},
   "outputs": [],
   "source": []
  }
 ],
 "metadata": {
  "kernelspec": {
   "display_name": "Python 3 (ipykernel)",
   "language": "python",
   "name": "python3"
  },
  "language_info": {
   "codemirror_mode": {
    "name": "ipython",
    "version": 3
   },
   "file_extension": ".py",
   "mimetype": "text/x-python",
   "name": "python",
   "nbconvert_exporter": "python",
   "pygments_lexer": "ipython3",
   "version": "3.10.0"
  }
 },
 "nbformat": 4,
 "nbformat_minor": 5
}
